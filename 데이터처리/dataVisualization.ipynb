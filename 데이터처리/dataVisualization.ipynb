{
  "nbformat": 4,
  "nbformat_minor": 0,
  "metadata": {
    "colab": {
      "provenance": []
    },
    "kernelspec": {
      "name": "python3",
      "display_name": "Python 3"
    },
    "language_info": {
      "name": "python"
    },
    "gpuClass": "standard"
  },
  "cells": [
    {
      "cell_type": "code",
      "execution_count": null,
      "metadata": {
        "colab": {
          "base_uri": "https://localhost:8080/"
        },
        "id": "dRpg8bBsMZiq",
        "outputId": "98197e7b-c5f0-44a1-ba4d-6e5726600064"
      },
      "outputs": [
        {
          "output_type": "stream",
          "name": "stdout",
          "text": [
            "Drive already mounted at /content/drive; to attempt to forcibly remount, call drive.mount(\"/content/drive\", force_remount=True).\n"
          ]
        }
      ],
      "source": [
        "from google.colab import drive\n",
        "drive.mount(\"/content/drive\")"
      ]
    },
    {
      "cell_type": "code",
      "source": [
        "!sudo apt-get install -y fonts-nanum\n",
        "!sudo fc-cache -fv\n",
        "!rm ~/.cache/matplotlib -rf"
      ],
      "metadata": {
        "id": "Y1mvQVWOZB5x"
      },
      "execution_count": null,
      "outputs": []
    },
    {
      "cell_type": "code",
      "source": [
        "import seaborn as sns\n",
        "import pandas as pd\n",
        "import numpy as np\n",
        "from matplotlib import pyplot as plt\n",
        "import requests\n",
        "from urllib import parse\n",
        "\n",
        "plt.rc('font', family='NanumBarunGothic') "
      ],
      "metadata": {
        "id": "vKr9kNlvMhyK"
      },
      "execution_count": null,
      "outputs": []
    },
    {
      "cell_type": "code",
      "source": [
        "import xml.etree.ElementTree as ET\n",
        "\n",
        "def ReadDataFromXML(key, url, dataPath, year):\n",
        "  key = key\n",
        "  key = parse.unquote(key)\n",
        "  #-- encoder key value to decoder key value\n",
        "\n",
        "  queryParams = '?' + parse.urlencode({\n",
        "    'serviceKey' : key,\n",
        "    'page' : 1,\n",
        "    'perPage' : 10,\n",
        "    'returnType' : \"XML\",\n",
        "  })\n",
        "  #-- Set queryParams\n",
        "\n",
        "  url = url + queryParams\n",
        "  #-- Set Url\n",
        "\n",
        "  response = requests.get(url)\n",
        "  response.status_code\n",
        "  #-- 200 \n",
        "\n",
        "  with open(dataPath, \"w\") as f:\n",
        "    f.write(response.text)\n",
        "  \n",
        "  campXML = ET.parse(dataPath)\n",
        "  root = campXML.getroot()\n",
        "  currentCount = campXML.find(\"currentCount\")\n",
        "  totalCount = campXML.findtext(\"totalCount\")\n",
        "  data = campXML.find(\"data\")\n",
        "  items= data.findall(\"item\")\n",
        "  #-- test\n",
        "  # ET.tostring(items[0], encoding = \"UTF-8\").decode()\n",
        "\n",
        "  dataset = []\n",
        "  dataset = DataSet(items, year)\n",
        "  return dataset\n",
        "  \n",
        "def DataSet(items, year):\n",
        "  dataset = []\n",
        "\n",
        "  for item in items:\n",
        "    male = 0\n",
        "    female = 0\n",
        "    unDefine = 0\n",
        "    crime = 0\n",
        "    arrest = 0\n",
        "    category1 = \"\"\n",
        "    category2 = \"\"\n",
        "    category3 = \"\" \n",
        "    for info in item:\n",
        "      # print(info.text) #-- 데이터 값 들어 있음\n",
        "        colName = info.get(\"name\")\n",
        "        if colName == \"검거인원(남자)\":\n",
        "          male = info.text\n",
        "        if colName ==\"검거인원(여자)\":\n",
        "          female = info.text\n",
        "        if colName ==\"검거인원(불상)\":\n",
        "          unDefine = info.text\n",
        "        if colName ==\"전국(발생)\":\n",
        "          crime = info.text\n",
        "        if colName == \"전국(검거)\":\n",
        "          arrest = info.text\n",
        "        if colName == \"죄종(대)\":\n",
        "          category1 = info.text\n",
        "        if colName == \"죄종(중)\":\n",
        "          category2 = info.text\n",
        "        if colName == \"죄종(소)\":\n",
        "          category3 = info.text\n",
        "\n",
        "    dataset.append({\n",
        "        \"Male\" :male,\n",
        "        \"Female\" : female,\n",
        "        \"UnDefine\" : unDefine,\n",
        "        \"Crime\" : crime,\n",
        "        \"Arrest\" : arrest,\n",
        "        \"Category1\" : category1,\n",
        "        \"Category2\" : category2,\n",
        "        \"Category3\" : category3,\n",
        "      })\n",
        "  return dataset"
      ],
      "metadata": {
        "id": "g5FoxQ6kmfu5"
      },
      "execution_count": null,
      "outputs": []
    },
    {
      "cell_type": "code",
      "source": [
        "key =  \"IU%2FiwaExUBMui%2FFjciNT%2F4Md3b4RLulJyt6%2FAccAZ4V4EaVsLtIbqTn1V%2FzTBDc46%2BTlA%2B7iSEXYrzTLFrmMKw%3D%3D\"\n",
        "url =  \"https://api.odcloud.kr/api/15064217/v1/uddi:5eb01115-6046-4320-84da-87b41ad58024\"\n",
        "dataPath = \"/content/drive/MyDrive/Software/datasets/Kor_Police_2021_data.xml\"\n",
        "year = 2021\n",
        "dataset1 = ReadDataFromXML(key,url,dataPath, year)"
      ],
      "metadata": {
        "id": "nGDEHtFHA9g5"
      },
      "execution_count": null,
      "outputs": []
    },
    {
      "cell_type": "code",
      "source": [
        "df = pd.DataFrame(dataset1)\n",
        "# df2 = pd.DataFrame(dataset2)\n",
        "# df3 = pd.DataFrame(dataset3)"
      ],
      "metadata": {
        "id": "vESMXqnA6Igi"
      },
      "execution_count": null,
      "outputs": []
    },
    {
      "cell_type": "code",
      "source": [
        "df = df.dropna(axis=0)\n",
        "# df2 = df2.dropna(axis=0)\n",
        "# df3 = df3.dropna(axis=0)\n",
        "#-- 결측 데이터 제거"
      ],
      "metadata": {
        "id": "c94CQ5VbHy17"
      },
      "execution_count": null,
      "outputs": []
    },
    {
      "cell_type": "code",
      "source": [
        "# df = pd.concat([df1,df2,df3],axis=0)\n",
        "df = df.reset_index(drop= True)\n",
        "df\n",
        "#-- 데이터 합치기"
      ],
      "metadata": {
        "colab": {
          "base_uri": "https://localhost:8080/",
          "height": 363
        },
        "id": "9FsxDBeiCUUc",
        "outputId": "615e889f-fcd0-4406-ca44-60aa99784b00"
      },
      "execution_count": null,
      "outputs": [
        {
          "output_type": "execute_result",
          "data": {
            "text/plain": [
              "   Male  Female  UnDefine  Crime  Arrest Category1 Category2   Category3\n",
              "0   305      72         3    340     326      강력범죄    살인(기수)          살인\n",
              "1     0      15         0     16      15      강력범죄    살인(기수)        영아살해\n",
              "2    27       6         0     32      32      강력범죄    살인(기수)        존속살해\n",
              "3     3       0         0      3       3      강력범죄    살인(기수)      촉탁승락살인\n",
              "4    15       8         0     20      19      강력범죄    살인(기수)      자살교사방조\n",
              "5     0       0         0      0       0      강력범죄    살인(기수)  위계위력촉탁승락살인\n",
              "6   532      60         9    559     551      강력범죄   살인(미수등)          살인\n",
              "7     0       0         0      0       0      강력범죄   살인(미수등)        영아살해\n",
              "8    17       2         0     18      18      강력범죄   살인(미수등)        존속살해\n",
              "9     0       1         0      1       1      강력범죄   살인(미수등)      촉탁승락살인"
            ],
            "text/html": [
              "\n",
              "  <div id=\"df-edcdca9c-940e-4750-9d55-cd85571c167e\">\n",
              "    <div class=\"colab-df-container\">\n",
              "      <div>\n",
              "<style scoped>\n",
              "    .dataframe tbody tr th:only-of-type {\n",
              "        vertical-align: middle;\n",
              "    }\n",
              "\n",
              "    .dataframe tbody tr th {\n",
              "        vertical-align: top;\n",
              "    }\n",
              "\n",
              "    .dataframe thead th {\n",
              "        text-align: right;\n",
              "    }\n",
              "</style>\n",
              "<table border=\"1\" class=\"dataframe\">\n",
              "  <thead>\n",
              "    <tr style=\"text-align: right;\">\n",
              "      <th></th>\n",
              "      <th>Male</th>\n",
              "      <th>Female</th>\n",
              "      <th>UnDefine</th>\n",
              "      <th>Crime</th>\n",
              "      <th>Arrest</th>\n",
              "      <th>Category1</th>\n",
              "      <th>Category2</th>\n",
              "      <th>Category3</th>\n",
              "    </tr>\n",
              "  </thead>\n",
              "  <tbody>\n",
              "    <tr>\n",
              "      <th>0</th>\n",
              "      <td>305</td>\n",
              "      <td>72</td>\n",
              "      <td>3</td>\n",
              "      <td>340</td>\n",
              "      <td>326</td>\n",
              "      <td>강력범죄</td>\n",
              "      <td>살인(기수)</td>\n",
              "      <td>살인</td>\n",
              "    </tr>\n",
              "    <tr>\n",
              "      <th>1</th>\n",
              "      <td>0</td>\n",
              "      <td>15</td>\n",
              "      <td>0</td>\n",
              "      <td>16</td>\n",
              "      <td>15</td>\n",
              "      <td>강력범죄</td>\n",
              "      <td>살인(기수)</td>\n",
              "      <td>영아살해</td>\n",
              "    </tr>\n",
              "    <tr>\n",
              "      <th>2</th>\n",
              "      <td>27</td>\n",
              "      <td>6</td>\n",
              "      <td>0</td>\n",
              "      <td>32</td>\n",
              "      <td>32</td>\n",
              "      <td>강력범죄</td>\n",
              "      <td>살인(기수)</td>\n",
              "      <td>존속살해</td>\n",
              "    </tr>\n",
              "    <tr>\n",
              "      <th>3</th>\n",
              "      <td>3</td>\n",
              "      <td>0</td>\n",
              "      <td>0</td>\n",
              "      <td>3</td>\n",
              "      <td>3</td>\n",
              "      <td>강력범죄</td>\n",
              "      <td>살인(기수)</td>\n",
              "      <td>촉탁승락살인</td>\n",
              "    </tr>\n",
              "    <tr>\n",
              "      <th>4</th>\n",
              "      <td>15</td>\n",
              "      <td>8</td>\n",
              "      <td>0</td>\n",
              "      <td>20</td>\n",
              "      <td>19</td>\n",
              "      <td>강력범죄</td>\n",
              "      <td>살인(기수)</td>\n",
              "      <td>자살교사방조</td>\n",
              "    </tr>\n",
              "    <tr>\n",
              "      <th>5</th>\n",
              "      <td>0</td>\n",
              "      <td>0</td>\n",
              "      <td>0</td>\n",
              "      <td>0</td>\n",
              "      <td>0</td>\n",
              "      <td>강력범죄</td>\n",
              "      <td>살인(기수)</td>\n",
              "      <td>위계위력촉탁승락살인</td>\n",
              "    </tr>\n",
              "    <tr>\n",
              "      <th>6</th>\n",
              "      <td>532</td>\n",
              "      <td>60</td>\n",
              "      <td>9</td>\n",
              "      <td>559</td>\n",
              "      <td>551</td>\n",
              "      <td>강력범죄</td>\n",
              "      <td>살인(미수등)</td>\n",
              "      <td>살인</td>\n",
              "    </tr>\n",
              "    <tr>\n",
              "      <th>7</th>\n",
              "      <td>0</td>\n",
              "      <td>0</td>\n",
              "      <td>0</td>\n",
              "      <td>0</td>\n",
              "      <td>0</td>\n",
              "      <td>강력범죄</td>\n",
              "      <td>살인(미수등)</td>\n",
              "      <td>영아살해</td>\n",
              "    </tr>\n",
              "    <tr>\n",
              "      <th>8</th>\n",
              "      <td>17</td>\n",
              "      <td>2</td>\n",
              "      <td>0</td>\n",
              "      <td>18</td>\n",
              "      <td>18</td>\n",
              "      <td>강력범죄</td>\n",
              "      <td>살인(미수등)</td>\n",
              "      <td>존속살해</td>\n",
              "    </tr>\n",
              "    <tr>\n",
              "      <th>9</th>\n",
              "      <td>0</td>\n",
              "      <td>1</td>\n",
              "      <td>0</td>\n",
              "      <td>1</td>\n",
              "      <td>1</td>\n",
              "      <td>강력범죄</td>\n",
              "      <td>살인(미수등)</td>\n",
              "      <td>촉탁승락살인</td>\n",
              "    </tr>\n",
              "  </tbody>\n",
              "</table>\n",
              "</div>\n",
              "      <button class=\"colab-df-convert\" onclick=\"convertToInteractive('df-edcdca9c-940e-4750-9d55-cd85571c167e')\"\n",
              "              title=\"Convert this dataframe to an interactive table.\"\n",
              "              style=\"display:none;\">\n",
              "        \n",
              "  <svg xmlns=\"http://www.w3.org/2000/svg\" height=\"24px\"viewBox=\"0 0 24 24\"\n",
              "       width=\"24px\">\n",
              "    <path d=\"M0 0h24v24H0V0z\" fill=\"none\"/>\n",
              "    <path d=\"M18.56 5.44l.94 2.06.94-2.06 2.06-.94-2.06-.94-.94-2.06-.94 2.06-2.06.94zm-11 1L8.5 8.5l.94-2.06 2.06-.94-2.06-.94L8.5 2.5l-.94 2.06-2.06.94zm10 10l.94 2.06.94-2.06 2.06-.94-2.06-.94-.94-2.06-.94 2.06-2.06.94z\"/><path d=\"M17.41 7.96l-1.37-1.37c-.4-.4-.92-.59-1.43-.59-.52 0-1.04.2-1.43.59L10.3 9.45l-7.72 7.72c-.78.78-.78 2.05 0 2.83L4 21.41c.39.39.9.59 1.41.59.51 0 1.02-.2 1.41-.59l7.78-7.78 2.81-2.81c.8-.78.8-2.07 0-2.86zM5.41 20L4 18.59l7.72-7.72 1.47 1.35L5.41 20z\"/>\n",
              "  </svg>\n",
              "      </button>\n",
              "      \n",
              "  <style>\n",
              "    .colab-df-container {\n",
              "      display:flex;\n",
              "      flex-wrap:wrap;\n",
              "      gap: 12px;\n",
              "    }\n",
              "\n",
              "    .colab-df-convert {\n",
              "      background-color: #E8F0FE;\n",
              "      border: none;\n",
              "      border-radius: 50%;\n",
              "      cursor: pointer;\n",
              "      display: none;\n",
              "      fill: #1967D2;\n",
              "      height: 32px;\n",
              "      padding: 0 0 0 0;\n",
              "      width: 32px;\n",
              "    }\n",
              "\n",
              "    .colab-df-convert:hover {\n",
              "      background-color: #E2EBFA;\n",
              "      box-shadow: 0px 1px 2px rgba(60, 64, 67, 0.3), 0px 1px 3px 1px rgba(60, 64, 67, 0.15);\n",
              "      fill: #174EA6;\n",
              "    }\n",
              "\n",
              "    [theme=dark] .colab-df-convert {\n",
              "      background-color: #3B4455;\n",
              "      fill: #D2E3FC;\n",
              "    }\n",
              "\n",
              "    [theme=dark] .colab-df-convert:hover {\n",
              "      background-color: #434B5C;\n",
              "      box-shadow: 0px 1px 3px 1px rgba(0, 0, 0, 0.15);\n",
              "      filter: drop-shadow(0px 1px 2px rgba(0, 0, 0, 0.3));\n",
              "      fill: #FFFFFF;\n",
              "    }\n",
              "  </style>\n",
              "\n",
              "      <script>\n",
              "        const buttonEl =\n",
              "          document.querySelector('#df-edcdca9c-940e-4750-9d55-cd85571c167e button.colab-df-convert');\n",
              "        buttonEl.style.display =\n",
              "          google.colab.kernel.accessAllowed ? 'block' : 'none';\n",
              "\n",
              "        async function convertToInteractive(key) {\n",
              "          const element = document.querySelector('#df-edcdca9c-940e-4750-9d55-cd85571c167e');\n",
              "          const dataTable =\n",
              "            await google.colab.kernel.invokeFunction('convertToInteractive',\n",
              "                                                     [key], {});\n",
              "          if (!dataTable) return;\n",
              "\n",
              "          const docLinkHtml = 'Like what you see? Visit the ' +\n",
              "            '<a target=\"_blank\" href=https://colab.research.google.com/notebooks/data_table.ipynb>data table notebook</a>'\n",
              "            + ' to learn more about interactive tables.';\n",
              "          element.innerHTML = '';\n",
              "          dataTable['output_type'] = 'display_data';\n",
              "          await google.colab.output.renderOutput(dataTable, element);\n",
              "          const docLink = document.createElement('div');\n",
              "          docLink.innerHTML = docLinkHtml;\n",
              "          element.appendChild(docLink);\n",
              "        }\n",
              "      </script>\n",
              "    </div>\n",
              "  </div>\n",
              "  "
            ]
          },
          "metadata": {},
          "execution_count": 264
        }
      ]
    },
    {
      "cell_type": "code",
      "source": [
        "df.isnull().sum()\n",
        "#-- 결측 데이터 확인"
      ],
      "metadata": {
        "colab": {
          "base_uri": "https://localhost:8080/"
        },
        "id": "yJ50j8WjF71I",
        "outputId": "8a43f9c3-2ef0-4ccb-8559-4b3f55fe72b1"
      },
      "execution_count": null,
      "outputs": [
        {
          "output_type": "execute_result",
          "data": {
            "text/plain": [
              "Male         0\n",
              "Female       0\n",
              "UnDefine     0\n",
              "Crime        0\n",
              "Arrest       0\n",
              "Category1    0\n",
              "Category2    0\n",
              "Category3    0\n",
              "dtype: int64"
            ]
          },
          "metadata": {},
          "execution_count": 206
        }
      ]
    },
    {
      "cell_type": "code",
      "source": [
        "df.info()"
      ],
      "metadata": {
        "colab": {
          "base_uri": "https://localhost:8080/"
        },
        "id": "KqSAEsosh4lt",
        "outputId": "9c95dc27-91a3-4179-dafa-de467d35c7aa"
      },
      "execution_count": null,
      "outputs": [
        {
          "output_type": "stream",
          "name": "stdout",
          "text": [
            "<class 'pandas.core.frame.DataFrame'>\n",
            "RangeIndex: 5 entries, 0 to 4\n",
            "Data columns (total 8 columns):\n",
            " #   Column     Non-Null Count  Dtype \n",
            "---  ------     --------------  ----- \n",
            " 0   Male       5 non-null      object\n",
            " 1   Female     5 non-null      object\n",
            " 2   UnDefine   5 non-null      object\n",
            " 3   Crime      5 non-null      object\n",
            " 4   Arrest     5 non-null      object\n",
            " 5   Category1  5 non-null      object\n",
            " 6   Category2  5 non-null      object\n",
            " 7   Category3  5 non-null      object\n",
            "dtypes: object(8)\n",
            "memory usage: 448.0+ bytes\n"
          ]
        }
      ]
    },
    {
      "cell_type": "code",
      "source": [
        " df['Male'] = pd.to_numeric(df[\"Male\"])\n",
        " df['Female'] = pd.to_numeric(df[\"Female\"])\n",
        " df['UnDefine'] = pd.to_numeric(df[\"UnDefine\"])\n",
        " df['Crime'] = pd.to_numeric(df[\"Crime\"])\n",
        " df['Arrest'] = pd.to_numeric(df[\"Arrest\"])\n",
        " df.dtypes\n",
        " #-- 정수형 데이터 변환"
      ],
      "metadata": {
        "colab": {
          "base_uri": "https://localhost:8080/"
        },
        "id": "D1Py2XSB6P5L",
        "outputId": "a660e68f-ee4d-4842-c6cc-667657cea90b"
      },
      "execution_count": null,
      "outputs": [
        {
          "output_type": "execute_result",
          "data": {
            "text/plain": [
              "Male          int64\n",
              "Female        int64\n",
              "UnDefine      int64\n",
              "Crime         int64\n",
              "Arrest        int64\n",
              "Category1    object\n",
              "Category2    object\n",
              "Category3    object\n",
              "dtype: object"
            ]
          },
          "metadata": {},
          "execution_count": 208
        }
      ]
    },
    {
      "cell_type": "code",
      "source": [
        "df1 = df.drop([\"UnDefine\",], axis = 1)\n",
        "df1\n",
        "#-- 원인 불명 삭제"
      ],
      "metadata": {
        "colab": {
          "base_uri": "https://localhost:8080/",
          "height": 363
        },
        "id": "_hg8iyK2jbLo",
        "outputId": "b9378658-370e-43fc-ddf3-481804bea1d8"
      },
      "execution_count": null,
      "outputs": [
        {
          "output_type": "execute_result",
          "data": {
            "text/plain": [
              "   Male  Female  Crime  Arrest Category1 Category2   Category3\n",
              "0   305      72    340     326      강력범죄    살인(기수)          살인\n",
              "1     0      15     16      15      강력범죄    살인(기수)        영아살해\n",
              "2    27       6     32      32      강력범죄    살인(기수)        존속살해\n",
              "3     3       0      3       3      강력범죄    살인(기수)      촉탁승락살인\n",
              "4    15       8     20      19      강력범죄    살인(기수)      자살교사방조\n",
              "5     0       0      0       0      강력범죄    살인(기수)  위계위력촉탁승락살인\n",
              "6   532      60    559     551      강력범죄   살인(미수등)          살인\n",
              "7     0       0      0       0      강력범죄   살인(미수등)        영아살해\n",
              "8    17       2     18      18      강력범죄   살인(미수등)        존속살해\n",
              "9     0       1      1       1      강력범죄   살인(미수등)      촉탁승락살인"
            ],
            "text/html": [
              "\n",
              "  <div id=\"df-4357cced-599a-45f9-b7e2-219f14a9f5aa\">\n",
              "    <div class=\"colab-df-container\">\n",
              "      <div>\n",
              "<style scoped>\n",
              "    .dataframe tbody tr th:only-of-type {\n",
              "        vertical-align: middle;\n",
              "    }\n",
              "\n",
              "    .dataframe tbody tr th {\n",
              "        vertical-align: top;\n",
              "    }\n",
              "\n",
              "    .dataframe thead th {\n",
              "        text-align: right;\n",
              "    }\n",
              "</style>\n",
              "<table border=\"1\" class=\"dataframe\">\n",
              "  <thead>\n",
              "    <tr style=\"text-align: right;\">\n",
              "      <th></th>\n",
              "      <th>Male</th>\n",
              "      <th>Female</th>\n",
              "      <th>Crime</th>\n",
              "      <th>Arrest</th>\n",
              "      <th>Category1</th>\n",
              "      <th>Category2</th>\n",
              "      <th>Category3</th>\n",
              "    </tr>\n",
              "  </thead>\n",
              "  <tbody>\n",
              "    <tr>\n",
              "      <th>0</th>\n",
              "      <td>305</td>\n",
              "      <td>72</td>\n",
              "      <td>340</td>\n",
              "      <td>326</td>\n",
              "      <td>강력범죄</td>\n",
              "      <td>살인(기수)</td>\n",
              "      <td>살인</td>\n",
              "    </tr>\n",
              "    <tr>\n",
              "      <th>1</th>\n",
              "      <td>0</td>\n",
              "      <td>15</td>\n",
              "      <td>16</td>\n",
              "      <td>15</td>\n",
              "      <td>강력범죄</td>\n",
              "      <td>살인(기수)</td>\n",
              "      <td>영아살해</td>\n",
              "    </tr>\n",
              "    <tr>\n",
              "      <th>2</th>\n",
              "      <td>27</td>\n",
              "      <td>6</td>\n",
              "      <td>32</td>\n",
              "      <td>32</td>\n",
              "      <td>강력범죄</td>\n",
              "      <td>살인(기수)</td>\n",
              "      <td>존속살해</td>\n",
              "    </tr>\n",
              "    <tr>\n",
              "      <th>3</th>\n",
              "      <td>3</td>\n",
              "      <td>0</td>\n",
              "      <td>3</td>\n",
              "      <td>3</td>\n",
              "      <td>강력범죄</td>\n",
              "      <td>살인(기수)</td>\n",
              "      <td>촉탁승락살인</td>\n",
              "    </tr>\n",
              "    <tr>\n",
              "      <th>4</th>\n",
              "      <td>15</td>\n",
              "      <td>8</td>\n",
              "      <td>20</td>\n",
              "      <td>19</td>\n",
              "      <td>강력범죄</td>\n",
              "      <td>살인(기수)</td>\n",
              "      <td>자살교사방조</td>\n",
              "    </tr>\n",
              "    <tr>\n",
              "      <th>5</th>\n",
              "      <td>0</td>\n",
              "      <td>0</td>\n",
              "      <td>0</td>\n",
              "      <td>0</td>\n",
              "      <td>강력범죄</td>\n",
              "      <td>살인(기수)</td>\n",
              "      <td>위계위력촉탁승락살인</td>\n",
              "    </tr>\n",
              "    <tr>\n",
              "      <th>6</th>\n",
              "      <td>532</td>\n",
              "      <td>60</td>\n",
              "      <td>559</td>\n",
              "      <td>551</td>\n",
              "      <td>강력범죄</td>\n",
              "      <td>살인(미수등)</td>\n",
              "      <td>살인</td>\n",
              "    </tr>\n",
              "    <tr>\n",
              "      <th>7</th>\n",
              "      <td>0</td>\n",
              "      <td>0</td>\n",
              "      <td>0</td>\n",
              "      <td>0</td>\n",
              "      <td>강력범죄</td>\n",
              "      <td>살인(미수등)</td>\n",
              "      <td>영아살해</td>\n",
              "    </tr>\n",
              "    <tr>\n",
              "      <th>8</th>\n",
              "      <td>17</td>\n",
              "      <td>2</td>\n",
              "      <td>18</td>\n",
              "      <td>18</td>\n",
              "      <td>강력범죄</td>\n",
              "      <td>살인(미수등)</td>\n",
              "      <td>존속살해</td>\n",
              "    </tr>\n",
              "    <tr>\n",
              "      <th>9</th>\n",
              "      <td>0</td>\n",
              "      <td>1</td>\n",
              "      <td>1</td>\n",
              "      <td>1</td>\n",
              "      <td>강력범죄</td>\n",
              "      <td>살인(미수등)</td>\n",
              "      <td>촉탁승락살인</td>\n",
              "    </tr>\n",
              "  </tbody>\n",
              "</table>\n",
              "</div>\n",
              "      <button class=\"colab-df-convert\" onclick=\"convertToInteractive('df-4357cced-599a-45f9-b7e2-219f14a9f5aa')\"\n",
              "              title=\"Convert this dataframe to an interactive table.\"\n",
              "              style=\"display:none;\">\n",
              "        \n",
              "  <svg xmlns=\"http://www.w3.org/2000/svg\" height=\"24px\"viewBox=\"0 0 24 24\"\n",
              "       width=\"24px\">\n",
              "    <path d=\"M0 0h24v24H0V0z\" fill=\"none\"/>\n",
              "    <path d=\"M18.56 5.44l.94 2.06.94-2.06 2.06-.94-2.06-.94-.94-2.06-.94 2.06-2.06.94zm-11 1L8.5 8.5l.94-2.06 2.06-.94-2.06-.94L8.5 2.5l-.94 2.06-2.06.94zm10 10l.94 2.06.94-2.06 2.06-.94-2.06-.94-.94-2.06-.94 2.06-2.06.94z\"/><path d=\"M17.41 7.96l-1.37-1.37c-.4-.4-.92-.59-1.43-.59-.52 0-1.04.2-1.43.59L10.3 9.45l-7.72 7.72c-.78.78-.78 2.05 0 2.83L4 21.41c.39.39.9.59 1.41.59.51 0 1.02-.2 1.41-.59l7.78-7.78 2.81-2.81c.8-.78.8-2.07 0-2.86zM5.41 20L4 18.59l7.72-7.72 1.47 1.35L5.41 20z\"/>\n",
              "  </svg>\n",
              "      </button>\n",
              "      \n",
              "  <style>\n",
              "    .colab-df-container {\n",
              "      display:flex;\n",
              "      flex-wrap:wrap;\n",
              "      gap: 12px;\n",
              "    }\n",
              "\n",
              "    .colab-df-convert {\n",
              "      background-color: #E8F0FE;\n",
              "      border: none;\n",
              "      border-radius: 50%;\n",
              "      cursor: pointer;\n",
              "      display: none;\n",
              "      fill: #1967D2;\n",
              "      height: 32px;\n",
              "      padding: 0 0 0 0;\n",
              "      width: 32px;\n",
              "    }\n",
              "\n",
              "    .colab-df-convert:hover {\n",
              "      background-color: #E2EBFA;\n",
              "      box-shadow: 0px 1px 2px rgba(60, 64, 67, 0.3), 0px 1px 3px 1px rgba(60, 64, 67, 0.15);\n",
              "      fill: #174EA6;\n",
              "    }\n",
              "\n",
              "    [theme=dark] .colab-df-convert {\n",
              "      background-color: #3B4455;\n",
              "      fill: #D2E3FC;\n",
              "    }\n",
              "\n",
              "    [theme=dark] .colab-df-convert:hover {\n",
              "      background-color: #434B5C;\n",
              "      box-shadow: 0px 1px 3px 1px rgba(0, 0, 0, 0.15);\n",
              "      filter: drop-shadow(0px 1px 2px rgba(0, 0, 0, 0.3));\n",
              "      fill: #FFFFFF;\n",
              "    }\n",
              "  </style>\n",
              "\n",
              "      <script>\n",
              "        const buttonEl =\n",
              "          document.querySelector('#df-4357cced-599a-45f9-b7e2-219f14a9f5aa button.colab-df-convert');\n",
              "        buttonEl.style.display =\n",
              "          google.colab.kernel.accessAllowed ? 'block' : 'none';\n",
              "\n",
              "        async function convertToInteractive(key) {\n",
              "          const element = document.querySelector('#df-4357cced-599a-45f9-b7e2-219f14a9f5aa');\n",
              "          const dataTable =\n",
              "            await google.colab.kernel.invokeFunction('convertToInteractive',\n",
              "                                                     [key], {});\n",
              "          if (!dataTable) return;\n",
              "\n",
              "          const docLinkHtml = 'Like what you see? Visit the ' +\n",
              "            '<a target=\"_blank\" href=https://colab.research.google.com/notebooks/data_table.ipynb>data table notebook</a>'\n",
              "            + ' to learn more about interactive tables.';\n",
              "          element.innerHTML = '';\n",
              "          dataTable['output_type'] = 'display_data';\n",
              "          await google.colab.output.renderOutput(dataTable, element);\n",
              "          const docLink = document.createElement('div');\n",
              "          docLink.innerHTML = docLinkHtml;\n",
              "          element.appendChild(docLink);\n",
              "        }\n",
              "      </script>\n",
              "    </div>\n",
              "  </div>\n",
              "  "
            ]
          },
          "metadata": {},
          "execution_count": 209
        }
      ]
    },
    {
      "cell_type": "code",
      "source": [
        "df1.corr()\n",
        "#-- 상관관계 확인\n",
        "\n",
        "#-- C.f. 상관관계의 계수\n",
        "#-- - x와 y가 상관관계가 있다고 하면, x가 변할 때 y가 변하는 것을 의미한다.\n",
        "#-- - 얼마나 변하냐와 관련한 것이 상관관계의 계수이다.\n",
        "#-- - 보통 계수가 0.2 이하이면 상관관계가 없거나 무시해도 좋은 수준\n",
        "#-- - 0.4 이하는 약한 상관관계\n",
        "#-- - 0.4 이상은 강한 상관관계"
      ],
      "metadata": {
        "colab": {
          "base_uri": "https://localhost:8080/",
          "height": 175
        },
        "id": "Bc5_ZXvF-kli",
        "outputId": "7f961d80-395e-49be-c33f-7654eb5d365f"
      },
      "execution_count": null,
      "outputs": [
        {
          "output_type": "execute_result",
          "data": {
            "text/plain": [
              "            Male    Female     Crime    Arrest\n",
              "Male    1.000000  0.903980  0.999312  0.999621\n",
              "Female  0.903980  1.000000  0.918325  0.912998\n",
              "Crime   0.999312  0.918325  1.000000  0.999904\n",
              "Arrest  0.999621  0.912998  0.999904  1.000000"
            ],
            "text/html": [
              "\n",
              "  <div id=\"df-066914b5-14f4-4032-8a85-d6d60d34a288\">\n",
              "    <div class=\"colab-df-container\">\n",
              "      <div>\n",
              "<style scoped>\n",
              "    .dataframe tbody tr th:only-of-type {\n",
              "        vertical-align: middle;\n",
              "    }\n",
              "\n",
              "    .dataframe tbody tr th {\n",
              "        vertical-align: top;\n",
              "    }\n",
              "\n",
              "    .dataframe thead th {\n",
              "        text-align: right;\n",
              "    }\n",
              "</style>\n",
              "<table border=\"1\" class=\"dataframe\">\n",
              "  <thead>\n",
              "    <tr style=\"text-align: right;\">\n",
              "      <th></th>\n",
              "      <th>Male</th>\n",
              "      <th>Female</th>\n",
              "      <th>Crime</th>\n",
              "      <th>Arrest</th>\n",
              "    </tr>\n",
              "  </thead>\n",
              "  <tbody>\n",
              "    <tr>\n",
              "      <th>Male</th>\n",
              "      <td>1.000000</td>\n",
              "      <td>0.903980</td>\n",
              "      <td>0.999312</td>\n",
              "      <td>0.999621</td>\n",
              "    </tr>\n",
              "    <tr>\n",
              "      <th>Female</th>\n",
              "      <td>0.903980</td>\n",
              "      <td>1.000000</td>\n",
              "      <td>0.918325</td>\n",
              "      <td>0.912998</td>\n",
              "    </tr>\n",
              "    <tr>\n",
              "      <th>Crime</th>\n",
              "      <td>0.999312</td>\n",
              "      <td>0.918325</td>\n",
              "      <td>1.000000</td>\n",
              "      <td>0.999904</td>\n",
              "    </tr>\n",
              "    <tr>\n",
              "      <th>Arrest</th>\n",
              "      <td>0.999621</td>\n",
              "      <td>0.912998</td>\n",
              "      <td>0.999904</td>\n",
              "      <td>1.000000</td>\n",
              "    </tr>\n",
              "  </tbody>\n",
              "</table>\n",
              "</div>\n",
              "      <button class=\"colab-df-convert\" onclick=\"convertToInteractive('df-066914b5-14f4-4032-8a85-d6d60d34a288')\"\n",
              "              title=\"Convert this dataframe to an interactive table.\"\n",
              "              style=\"display:none;\">\n",
              "        \n",
              "  <svg xmlns=\"http://www.w3.org/2000/svg\" height=\"24px\"viewBox=\"0 0 24 24\"\n",
              "       width=\"24px\">\n",
              "    <path d=\"M0 0h24v24H0V0z\" fill=\"none\"/>\n",
              "    <path d=\"M18.56 5.44l.94 2.06.94-2.06 2.06-.94-2.06-.94-.94-2.06-.94 2.06-2.06.94zm-11 1L8.5 8.5l.94-2.06 2.06-.94-2.06-.94L8.5 2.5l-.94 2.06-2.06.94zm10 10l.94 2.06.94-2.06 2.06-.94-2.06-.94-.94-2.06-.94 2.06-2.06.94z\"/><path d=\"M17.41 7.96l-1.37-1.37c-.4-.4-.92-.59-1.43-.59-.52 0-1.04.2-1.43.59L10.3 9.45l-7.72 7.72c-.78.78-.78 2.05 0 2.83L4 21.41c.39.39.9.59 1.41.59.51 0 1.02-.2 1.41-.59l7.78-7.78 2.81-2.81c.8-.78.8-2.07 0-2.86zM5.41 20L4 18.59l7.72-7.72 1.47 1.35L5.41 20z\"/>\n",
              "  </svg>\n",
              "      </button>\n",
              "      \n",
              "  <style>\n",
              "    .colab-df-container {\n",
              "      display:flex;\n",
              "      flex-wrap:wrap;\n",
              "      gap: 12px;\n",
              "    }\n",
              "\n",
              "    .colab-df-convert {\n",
              "      background-color: #E8F0FE;\n",
              "      border: none;\n",
              "      border-radius: 50%;\n",
              "      cursor: pointer;\n",
              "      display: none;\n",
              "      fill: #1967D2;\n",
              "      height: 32px;\n",
              "      padding: 0 0 0 0;\n",
              "      width: 32px;\n",
              "    }\n",
              "\n",
              "    .colab-df-convert:hover {\n",
              "      background-color: #E2EBFA;\n",
              "      box-shadow: 0px 1px 2px rgba(60, 64, 67, 0.3), 0px 1px 3px 1px rgba(60, 64, 67, 0.15);\n",
              "      fill: #174EA6;\n",
              "    }\n",
              "\n",
              "    [theme=dark] .colab-df-convert {\n",
              "      background-color: #3B4455;\n",
              "      fill: #D2E3FC;\n",
              "    }\n",
              "\n",
              "    [theme=dark] .colab-df-convert:hover {\n",
              "      background-color: #434B5C;\n",
              "      box-shadow: 0px 1px 3px 1px rgba(0, 0, 0, 0.15);\n",
              "      filter: drop-shadow(0px 1px 2px rgba(0, 0, 0, 0.3));\n",
              "      fill: #FFFFFF;\n",
              "    }\n",
              "  </style>\n",
              "\n",
              "      <script>\n",
              "        const buttonEl =\n",
              "          document.querySelector('#df-066914b5-14f4-4032-8a85-d6d60d34a288 button.colab-df-convert');\n",
              "        buttonEl.style.display =\n",
              "          google.colab.kernel.accessAllowed ? 'block' : 'none';\n",
              "\n",
              "        async function convertToInteractive(key) {\n",
              "          const element = document.querySelector('#df-066914b5-14f4-4032-8a85-d6d60d34a288');\n",
              "          const dataTable =\n",
              "            await google.colab.kernel.invokeFunction('convertToInteractive',\n",
              "                                                     [key], {});\n",
              "          if (!dataTable) return;\n",
              "\n",
              "          const docLinkHtml = 'Like what you see? Visit the ' +\n",
              "            '<a target=\"_blank\" href=https://colab.research.google.com/notebooks/data_table.ipynb>data table notebook</a>'\n",
              "            + ' to learn more about interactive tables.';\n",
              "          element.innerHTML = '';\n",
              "          dataTable['output_type'] = 'display_data';\n",
              "          await google.colab.output.renderOutput(dataTable, element);\n",
              "          const docLink = document.createElement('div');\n",
              "          docLink.innerHTML = docLinkHtml;\n",
              "          element.appendChild(docLink);\n",
              "        }\n",
              "      </script>\n",
              "    </div>\n",
              "  </div>\n",
              "  "
            ]
          },
          "metadata": {},
          "execution_count": 210
        }
      ]
    },
    {
      "cell_type": "code",
      "source": [
        "# dfMan1 = df1.drop([\"Female\", \"Arrest\"], axis = 1)\n",
        "# dfMan1 = dfMan1.groupby([\"Male\", \"Category1\", \"Category2\",\"Category3\",\"Crime\"]).count()\n",
        "# dfMan1 = dfMan1.sort_values(by='Category1' ,ascending=False)\n",
        "# dfMan1\n",
        "\n",
        "# dfMan2 = df1.drop([\"Female\", \"Crime\"], axis = 1)\n",
        "# dfMan2 = dfMan2.groupby([\"Male\", \"Category1\", \"Category2\",\"Category3\",\"Arrest\"]).count()\n",
        "# dfMan2 = dfMan2.sort_values(by='Category1' ,ascending=False)\n",
        "# dfMan2\n",
        "\n",
        "# dfWomen1 = df1.drop([\"Male\", \"Arrest\"], axis = 1)\n",
        "# dfWomen1 = dfWomen1.groupby([\"Female\", \"Category1\", \"Category2\",\"Category3\",\"Crime\"]).count()\n",
        "# dfWomen1 = dfWomen1.sort_values(by='Category1' ,ascending=False)\n",
        "\n",
        "# dfWomen2 = df1.drop([\"Male\", \"Crime\"], axis = 1)\n",
        "# dfWomen2 = dfWomen2.groupby([\"Female\", \"Category1\", \"Category2\",\"Category3\",\"Arrest\"]).count()\n",
        "# dfWomen2 = dfWomen2.sort_values(by='Category1' ,ascending=False)\n",
        "\n",
        "# dfMan1 = dfMan1.reset_index()\n",
        "# dfMan2 = dfMan2.reset_index()\n",
        "# dfWomen1 = dfWomen1.reset_index()\n",
        "# dfWomen2 = dfWomen2.reset_index()\n",
        "\n",
        "# dfMan1[\"Ratio\"] = dfMan1[\"Male\"] / dfMan1[\"Crime\"]\n",
        "# dfMan2[\"Ratio\"] = dfMan2[\"Male\"] / dfMan2[\"Arrest\"]\n",
        "# dfWomen1[\"Ratio\"] = dfWomen1[\"Female\"] / dfWomen1[\"Crime\"]\n",
        "# dfWomen2[\"Ratio\"] = dfWomen2[\"Female\"] / dfWomen2[\"Arrest\"]\n",
        "# dfMan1\n",
        "\n",
        "# dfMan1 = dfMan1.reset_index()\n",
        "# dfMan2 = dfMan2.reset_index()\n",
        "# dfWomen1 = dfWomen1.reset_index()\n",
        "# dfWomen2 = dfWomen2.reset_index()\n",
        "\n",
        "# dfMan1.set_index([\"Category1\",'Category2',\"Category3\"], inplace = True)\n",
        "# dfMan2.set_index([\"Category1\",'Category2',\"Category3\"], inplace = True)\n",
        "# dfWomen1.set_index([\"Category1\",'Category2',\"Category3\"], inplace = True)\n",
        "# dfWomen2.set_index([\"Category1\",'Category2',\"Category3\"], inplace = True)\n",
        "# dfMan1"
      ],
      "metadata": {
        "id": "IynqNC7srjeb"
      },
      "execution_count": null,
      "outputs": []
    },
    {
      "cell_type": "code",
      "source": [
        "dfCrime =  df1.drop([\"Arrest\"], axis = 1)\n",
        "dfCrime = dfCrime.sort_values(by='Category1' ,ascending=False)\n",
        "#-- 남여 범죄 분할\n",
        "\n",
        "dfArrest = df1.drop([\"Crime\"], axis = 1)\n",
        "dfArrest = dfArrest.sort_values(by='Category1' ,ascending=False)\n",
        "#-- 남여 검거 분할\n",
        "\n",
        "dfCrime[\"CrimeRatioMan\"] = dfCrime[\"Male\"] / dfCrime[\"Crime\"]\n",
        "dfCrime[\"CrimeRatioWomen\"] = dfCrime[\"Female\"] / dfCrime[\"Crime\"]\n",
        "#-- 남여 범죄별 비율 \n",
        "\n",
        "dfArrest[\"ArrestRatioMan\"] = dfArrest[\"Male\"] / dfArrest[\"Arrest\"]\n",
        "dfArrest[\"ArrestRatioWomen\"] = dfArrest[\"Female\"] / dfArrest[\"Arrest\"]\n",
        "#-- 남여 범죄별 검거 비율\n",
        "\n",
        "dfCrime.set_index([\"Category1\",'Category2',\"Category3\"], inplace = True)\n",
        "dfArrest.set_index([\"Category1\",'Category2',\"Category3\"], inplace = True)\n",
        "#-- 범죄별로 정렬\n",
        "\n",
        "dfCrime.info()"
      ],
      "metadata": {
        "colab": {
          "base_uri": "https://localhost:8080/"
        },
        "id": "ogxj-eW1Wv5m",
        "outputId": "022e8bd8-47b0-424f-f1d0-f13dbbeda471"
      },
      "execution_count": null,
      "outputs": [
        {
          "output_type": "stream",
          "name": "stdout",
          "text": [
            "<class 'pandas.core.frame.DataFrame'>\n",
            "MultiIndex: 10 entries, ('강력범죄', '살인(기수)', '살인') to ('강력범죄', '살인(미수등)', '촉탁승락살인')\n",
            "Data columns (total 5 columns):\n",
            " #   Column           Non-Null Count  Dtype  \n",
            "---  ------           --------------  -----  \n",
            " 0   Male             10 non-null     int64  \n",
            " 1   Female           10 non-null     int64  \n",
            " 2   Crime            10 non-null     int64  \n",
            " 3   CrimeRatioMan    8 non-null      float64\n",
            " 4   CrimeRatioWomen  8 non-null      float64\n",
            "dtypes: float64(2), int64(3)\n",
            "memory usage: 1.0+ KB\n"
          ]
        }
      ]
    },
    {
      "cell_type": "code",
      "source": [
        "dfCrime.head()"
      ],
      "metadata": {
        "colab": {
          "base_uri": "https://localhost:8080/",
          "height": 237
        },
        "id": "NVpnVWrTZuZ8",
        "outputId": "d04c8cad-7454-4d26-da87-b596e5554134"
      },
      "execution_count": null,
      "outputs": [
        {
          "output_type": "execute_result",
          "data": {
            "text/plain": [
              "                               Male  Female  Crime  CrimeRatioMan  \\\n",
              "Category1 Category2 Category3                                       \n",
              "강력범죄      살인(기수)    살인          305      72    340       0.897059   \n",
              "                    영아살해          0      15     16       0.000000   \n",
              "                    존속살해         27       6     32       0.843750   \n",
              "                    촉탁승락살인        3       0      3       1.000000   \n",
              "                    자살교사방조       15       8     20       0.750000   \n",
              "\n",
              "                               CrimeRatioWomen  \n",
              "Category1 Category2 Category3                   \n",
              "강력범죄      살인(기수)    살인                0.211765  \n",
              "                    영아살해              0.937500  \n",
              "                    존속살해              0.187500  \n",
              "                    촉탁승락살인            0.000000  \n",
              "                    자살교사방조            0.400000  "
            ],
            "text/html": [
              "\n",
              "  <div id=\"df-064b23db-a1a7-4fb7-b79e-7cb4bc7e08c7\">\n",
              "    <div class=\"colab-df-container\">\n",
              "      <div>\n",
              "<style scoped>\n",
              "    .dataframe tbody tr th:only-of-type {\n",
              "        vertical-align: middle;\n",
              "    }\n",
              "\n",
              "    .dataframe tbody tr th {\n",
              "        vertical-align: top;\n",
              "    }\n",
              "\n",
              "    .dataframe thead th {\n",
              "        text-align: right;\n",
              "    }\n",
              "</style>\n",
              "<table border=\"1\" class=\"dataframe\">\n",
              "  <thead>\n",
              "    <tr style=\"text-align: right;\">\n",
              "      <th></th>\n",
              "      <th></th>\n",
              "      <th></th>\n",
              "      <th>Male</th>\n",
              "      <th>Female</th>\n",
              "      <th>Crime</th>\n",
              "      <th>CrimeRatioMan</th>\n",
              "      <th>CrimeRatioWomen</th>\n",
              "    </tr>\n",
              "    <tr>\n",
              "      <th>Category1</th>\n",
              "      <th>Category2</th>\n",
              "      <th>Category3</th>\n",
              "      <th></th>\n",
              "      <th></th>\n",
              "      <th></th>\n",
              "      <th></th>\n",
              "      <th></th>\n",
              "    </tr>\n",
              "  </thead>\n",
              "  <tbody>\n",
              "    <tr>\n",
              "      <th rowspan=\"5\" valign=\"top\">강력범죄</th>\n",
              "      <th rowspan=\"5\" valign=\"top\">살인(기수)</th>\n",
              "      <th>살인</th>\n",
              "      <td>305</td>\n",
              "      <td>72</td>\n",
              "      <td>340</td>\n",
              "      <td>0.897059</td>\n",
              "      <td>0.211765</td>\n",
              "    </tr>\n",
              "    <tr>\n",
              "      <th>영아살해</th>\n",
              "      <td>0</td>\n",
              "      <td>15</td>\n",
              "      <td>16</td>\n",
              "      <td>0.000000</td>\n",
              "      <td>0.937500</td>\n",
              "    </tr>\n",
              "    <tr>\n",
              "      <th>존속살해</th>\n",
              "      <td>27</td>\n",
              "      <td>6</td>\n",
              "      <td>32</td>\n",
              "      <td>0.843750</td>\n",
              "      <td>0.187500</td>\n",
              "    </tr>\n",
              "    <tr>\n",
              "      <th>촉탁승락살인</th>\n",
              "      <td>3</td>\n",
              "      <td>0</td>\n",
              "      <td>3</td>\n",
              "      <td>1.000000</td>\n",
              "      <td>0.000000</td>\n",
              "    </tr>\n",
              "    <tr>\n",
              "      <th>자살교사방조</th>\n",
              "      <td>15</td>\n",
              "      <td>8</td>\n",
              "      <td>20</td>\n",
              "      <td>0.750000</td>\n",
              "      <td>0.400000</td>\n",
              "    </tr>\n",
              "  </tbody>\n",
              "</table>\n",
              "</div>\n",
              "      <button class=\"colab-df-convert\" onclick=\"convertToInteractive('df-064b23db-a1a7-4fb7-b79e-7cb4bc7e08c7')\"\n",
              "              title=\"Convert this dataframe to an interactive table.\"\n",
              "              style=\"display:none;\">\n",
              "        \n",
              "  <svg xmlns=\"http://www.w3.org/2000/svg\" height=\"24px\"viewBox=\"0 0 24 24\"\n",
              "       width=\"24px\">\n",
              "    <path d=\"M0 0h24v24H0V0z\" fill=\"none\"/>\n",
              "    <path d=\"M18.56 5.44l.94 2.06.94-2.06 2.06-.94-2.06-.94-.94-2.06-.94 2.06-2.06.94zm-11 1L8.5 8.5l.94-2.06 2.06-.94-2.06-.94L8.5 2.5l-.94 2.06-2.06.94zm10 10l.94 2.06.94-2.06 2.06-.94-2.06-.94-.94-2.06-.94 2.06-2.06.94z\"/><path d=\"M17.41 7.96l-1.37-1.37c-.4-.4-.92-.59-1.43-.59-.52 0-1.04.2-1.43.59L10.3 9.45l-7.72 7.72c-.78.78-.78 2.05 0 2.83L4 21.41c.39.39.9.59 1.41.59.51 0 1.02-.2 1.41-.59l7.78-7.78 2.81-2.81c.8-.78.8-2.07 0-2.86zM5.41 20L4 18.59l7.72-7.72 1.47 1.35L5.41 20z\"/>\n",
              "  </svg>\n",
              "      </button>\n",
              "      \n",
              "  <style>\n",
              "    .colab-df-container {\n",
              "      display:flex;\n",
              "      flex-wrap:wrap;\n",
              "      gap: 12px;\n",
              "    }\n",
              "\n",
              "    .colab-df-convert {\n",
              "      background-color: #E8F0FE;\n",
              "      border: none;\n",
              "      border-radius: 50%;\n",
              "      cursor: pointer;\n",
              "      display: none;\n",
              "      fill: #1967D2;\n",
              "      height: 32px;\n",
              "      padding: 0 0 0 0;\n",
              "      width: 32px;\n",
              "    }\n",
              "\n",
              "    .colab-df-convert:hover {\n",
              "      background-color: #E2EBFA;\n",
              "      box-shadow: 0px 1px 2px rgba(60, 64, 67, 0.3), 0px 1px 3px 1px rgba(60, 64, 67, 0.15);\n",
              "      fill: #174EA6;\n",
              "    }\n",
              "\n",
              "    [theme=dark] .colab-df-convert {\n",
              "      background-color: #3B4455;\n",
              "      fill: #D2E3FC;\n",
              "    }\n",
              "\n",
              "    [theme=dark] .colab-df-convert:hover {\n",
              "      background-color: #434B5C;\n",
              "      box-shadow: 0px 1px 3px 1px rgba(0, 0, 0, 0.15);\n",
              "      filter: drop-shadow(0px 1px 2px rgba(0, 0, 0, 0.3));\n",
              "      fill: #FFFFFF;\n",
              "    }\n",
              "  </style>\n",
              "\n",
              "      <script>\n",
              "        const buttonEl =\n",
              "          document.querySelector('#df-064b23db-a1a7-4fb7-b79e-7cb4bc7e08c7 button.colab-df-convert');\n",
              "        buttonEl.style.display =\n",
              "          google.colab.kernel.accessAllowed ? 'block' : 'none';\n",
              "\n",
              "        async function convertToInteractive(key) {\n",
              "          const element = document.querySelector('#df-064b23db-a1a7-4fb7-b79e-7cb4bc7e08c7');\n",
              "          const dataTable =\n",
              "            await google.colab.kernel.invokeFunction('convertToInteractive',\n",
              "                                                     [key], {});\n",
              "          if (!dataTable) return;\n",
              "\n",
              "          const docLinkHtml = 'Like what you see? Visit the ' +\n",
              "            '<a target=\"_blank\" href=https://colab.research.google.com/notebooks/data_table.ipynb>data table notebook</a>'\n",
              "            + ' to learn more about interactive tables.';\n",
              "          element.innerHTML = '';\n",
              "          dataTable['output_type'] = 'display_data';\n",
              "          await google.colab.output.renderOutput(dataTable, element);\n",
              "          const docLink = document.createElement('div');\n",
              "          docLink.innerHTML = docLinkHtml;\n",
              "          element.appendChild(docLink);\n",
              "        }\n",
              "      </script>\n",
              "    </div>\n",
              "  </div>\n",
              "  "
            ]
          },
          "metadata": {},
          "execution_count": 212
        }
      ]
    },
    {
      "cell_type": "code",
      "source": [
        "maleCrimeDf = dfCrime[[\"Male\",\"Crime\",]]\n",
        "maleCrimeDf\n",
        "maleCrimeDf.sort_values(\n",
        "  by='Crime', ascending=True).plot(kind=\"barh\", logx=True)\n",
        "plt.xlabel(\"남성 강력범죄 수\")\n",
        "plt.legend(loc='lower right')\n",
        "plt.show()\n",
        "\n",
        "#-- 일어난 범죄 중 남성이 저지른 횟수"
      ],
      "metadata": {
        "colab": {
          "base_uri": "https://localhost:8080/",
          "height": 284
        },
        "id": "bMmZPAQqYkaM",
        "outputId": "97d6bf1f-12cc-46a0-f765-5c8826d5a074"
      },
      "execution_count": null,
      "outputs": [
        {
          "output_type": "display_data",
          "data": {
            "text/plain": [
              "<Figure size 432x288 with 1 Axes>"
            ],
            "image/png": "[encoded data removed]"
          },
          "metadata": {
            "needs_background": "light"
          }
        }
      ]
    },
    {
      "cell_type": "code",
      "source": [
        "# print(maleDF.index)\n",
        "label = maleCrimeDf.loc[('강력범죄','살인(기수)' )]\n",
        "#-- 강력범죄, 살인(기수)로 분할\n",
        "label = label.reset_index()\n",
        "labels = label[\"Category3\"].value_counts().index.tolist()\n",
        "labels\n",
        "male = label[\"Male\"]\n",
        "fracs1 =  male.values\n",
        "fracs1\n",
        "explode = (0.25,0,0,0,0,0)\n",
        "\n",
        "plt.pie(fracs1,explode = explode,\n",
        "        labels = labels, autopct =\"%0.0f%%\",shadow =True,\n",
        "        )\n",
        "plt.title(\"남성 강력범죄(살인) 중 가장 많은 범죄는 살인\")\n",
        "plt.show()"
      ],
      "metadata": {
        "colab": {
          "base_uri": "https://localhost:8080/",
          "height": 263
        },
        "id": "aLSaNNtUjPJm",
        "outputId": "1f506838-a388-49f3-c963-746513e26773"
      },
      "execution_count": null,
      "outputs": [
        {
          "output_type": "display_data",
          "data": {
            "text/plain": [
              "<Figure size 432x288 with 1 Axes>"
            ],
            "image/png": "[encoded data removed]"
          },
          "metadata": {}
        }
      ]
    },
    {
      "cell_type": "code",
      "source": [
        "maleCrimeRatioDf = dfCrime[[\"CrimeRatioMan\",]]\n",
        "maleCrimeRatioDf\n",
        "maleCrimeRatioDf.sort_values(\n",
        "  by='CrimeRatioMan', ascending=True).plot(kind=\"barh\", )\n",
        "plt.xlabel(\"남성 강력범죄 수\")\n",
        "plt.legend(loc='lower right')\n",
        "plt.show()\n",
        "\n",
        "#-- 일어난 범죄 중 남성이 저지른 횟수"
      ],
      "metadata": {
        "colab": {
          "base_uri": "https://localhost:8080/",
          "height": 279
        },
        "id": "J4k5F30d8gwA",
        "outputId": "d7737ab6-bb02-42d0-aa1a-dc059b58ad33"
      },
      "execution_count": null,
      "outputs": [
        {
          "output_type": "display_data",
          "data": {
            "text/plain": [
              "<Figure size 432x288 with 1 Axes>"
            ],
            "image/png": "[encoded data removed]"
          },
          "metadata": {
            "needs_background": "light"
          }
        }
      ]
    },
    {
      "cell_type": "code",
      "source": [
        "# print(maleDF.index)\n",
        "label = maleCrimeDf.loc[('강력범죄','살인(미수등)' )]\n",
        "#-- 강력범죄, 살인(기수)로 분할\n",
        "label = label.reset_index()\n",
        "labels = label[\"Category3\"].value_counts().index.tolist()\n",
        "labels\n",
        "male = label[\"Male\"]\n",
        "fracs1 =  male.values\n",
        "fracs1\n",
        "explode = (0.25,0,0,0)\n",
        "\n",
        "plt.pie(fracs1,explode = explode,\n",
        "        labels = labels, autopct =\"%0.0f%%\",shadow =True,\n",
        "        )\n",
        "plt.title(\"남성 강력범죄(미수) 중 가장 많은 범죄는 살인\")\n",
        "plt.show()"
      ],
      "metadata": {
        "colab": {
          "base_uri": "https://localhost:8080/",
          "height": 263
        },
        "id": "K-6fHfy5vVVr",
        "outputId": "5f35cb51-e17a-4601-a173-7ab7e4fcc8fa"
      },
      "execution_count": null,
      "outputs": [
        {
          "output_type": "display_data",
          "data": {
            "text/plain": [
              "<Figure size 432x288 with 1 Axes>"
            ],
            "image/png": "[encoded data removed]"
          },
          "metadata": {}
        }
      ]
    },
    {
      "cell_type": "code",
      "source": [
        "femaleCrimeDf = dfCrime[[\"Female\",\"Crime\",]]\n",
        "# maleDF\n",
        "femaleCrimeDf.sort_values(\n",
        "  by='Crime', ascending=True).plot(kind=\"barh\", logx=True)\n",
        "plt.xlabel(\"여성 강력범죄 수\")\n",
        "plt.legend(loc='lower right')\n",
        "plt.show()\n",
        "#-- 일어난 범죄 중 여성이 저지른 횟수"
      ],
      "metadata": {
        "colab": {
          "base_uri": "https://localhost:8080/",
          "height": 284
        },
        "id": "okw0LsBfiyWF",
        "outputId": "7fceffbe-57e1-46bc-831e-5c968b7e0736"
      },
      "execution_count": null,
      "outputs": [
        {
          "output_type": "display_data",
          "data": {
            "text/plain": [
              "<Figure size 432x288 with 1 Axes>"
            ],
            "image/png": "[encoded data removed]"
          },
          "metadata": {
            "needs_background": "light"
          }
        }
      ]
    },
    {
      "cell_type": "code",
      "source": [
        "# print(maleDF.index)\n",
        "label = femaleCrimeDf.loc[('강력범죄','살인(기수)' )]\n",
        "#-- 강력범죄, 살인(기수)로 분할\n",
        "label = label.reset_index()\n",
        "labels = label[\"Category3\"].value_counts().index.tolist()\n",
        "male = label[\"Female\"]\n",
        "fracs1 =  male.values\n",
        "explode = (0.25,0,0,0,0,0)\n",
        "\n",
        "plt.pie(fracs1,explode = explode,\n",
        "        labels = labels, autopct =\"%0.0f%%\",shadow =True,\n",
        "        )\n",
        "plt.title(\"여성 강력범죄 중 가장 많은 범죄는 살인\")\n",
        "plt.show()"
      ],
      "metadata": {
        "colab": {
          "base_uri": "https://localhost:8080/",
          "height": 263
        },
        "id": "UNvP2Sdap_lM",
        "outputId": "3d09eb42-f72d-4704-cae4-4d5390608594"
      },
      "execution_count": null,
      "outputs": [
        {
          "output_type": "display_data",
          "data": {
            "text/plain": [
              "<Figure size 432x288 with 1 Axes>"
            ],
            "image/png": "[encoded data removed]"
          },
          "metadata": {}
        }
      ]
    },
    {
      "cell_type": "code",
      "source": [
        "# print(maleDF.index)\n",
        "label = femaleCrimeDf.loc[('강력범죄','살인(미수등)' )]\n",
        "#-- 강력범죄, 살인(기수)로 분할\n",
        "label = label.reset_index()\n",
        "labels = label[\"Category3\"].value_counts().index.tolist()\n",
        "male = label[\"Female\"]\n",
        "fracs1 =  male.values\n",
        "explode = (0.25,0,0,0)\n",
        "\n",
        "plt.pie(fracs1,explode = explode,\n",
        "        labels = labels, autopct =\"%0.0f%%\",shadow =True,\n",
        "        )\n",
        "plt.title(\"여성 강력범죄(미수) 중 가장 많은 범죄는 살인\")\n",
        "plt.show()"
      ],
      "metadata": {
        "colab": {
          "base_uri": "https://localhost:8080/",
          "height": 263
        },
        "id": "IAWZtKgkwX8Z",
        "outputId": "dd57c770-74d8-4633-87ef-73d917997881"
      },
      "execution_count": null,
      "outputs": [
        {
          "output_type": "display_data",
          "data": {
            "text/plain": [
              "<Figure size 432x288 with 1 Axes>"
            ],
            "image/png": "[encoded data removed]"
          },
          "metadata": {}
        }
      ]
    },
    {
      "cell_type": "code",
      "source": [
        "femaleCrimeRatioDf = dfCrime[[\"CrimeRatioWomen\",]]\n",
        "femaleCrimeRatioDf\n",
        "femaleCrimeRatioDf.sort_values(\n",
        "  by='CrimeRatioWomen', ascending=True).plot(kind=\"barh\", )\n",
        "plt.xlabel(\"여성 강력범죄 수\")\n",
        "plt.legend(loc='lower right')\n",
        "plt.show()\n",
        "\n",
        "#-- 일어난 범죄 중 여성이 저지른 횟수"
      ],
      "metadata": {
        "colab": {
          "base_uri": "https://localhost:8080/",
          "height": 279
        },
        "id": "R3nESqVxDZEv",
        "outputId": "a2dbf157-dcb6-4f9a-90b8-6cd8635c40e5"
      },
      "execution_count": null,
      "outputs": [
        {
          "output_type": "display_data",
          "data": {
            "text/plain": [
              "<Figure size 432x288 with 1 Axes>"
            ],
            "image/png": "[encoded data removed]"
          },
          "metadata": {
            "needs_background": "light"
          }
        }
      ]
    },
    {
      "cell_type": "code",
      "source": [
        "Arrest = df1.drop([\"Male\",\"Female\"], axis = 1)\n",
        "Arrest = Arrest.sort_values(by='Category1' ,ascending=False)\n",
        "Arrest.set_index([\"Category1\",'Category2',\"Category3\"], inplace = True)\n",
        "ArrestDf = Arrest[[\"Arrest\",\"Crime\",]]\n",
        "# ArrestDf\n",
        "\n",
        "ArrestDf.sort_values(\n",
        "  by='Crime', ascending=True).plot(kind=\"barh\", logx=True,)\n",
        "plt.xlabel(\"범죄 별 검거 현황\")\n",
        "plt.legend(loc='lower right')\n",
        "\n",
        "plt.show()"
      ],
      "metadata": {
        "colab": {
          "base_uri": "https://localhost:8080/",
          "height": 284
        },
        "id": "utJLmnfgqYQx",
        "outputId": "087e411c-c44d-4aa6-f482-b5a390ed126b"
      },
      "execution_count": null,
      "outputs": [
        {
          "output_type": "display_data",
          "data": {
            "text/plain": [
              "<Figure size 432x288 with 1 Axes>"
            ],
            "image/png": "[encoded data removed]"
          },
          "metadata": {
            "needs_background": "light"
          }
        }
      ]
    }
  ]
}